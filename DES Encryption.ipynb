{
 "cells": [
  {
   "cell_type": "markdown",
   "id": "414da2b0",
   "metadata": {},
   "source": [
    "Chiffrement DES"
   ]
  },
  {
   "cell_type": "markdown",
   "id": "9e776b6b",
   "metadata": {},
   "source": [
    "Noms:\n",
    "    ----"
   ]
  },
  {
   "cell_type": "markdown",
   "id": "c69a3c47",
   "metadata": {},
   "source": [
    "Decalage à Gauche"
   ]
  },
  {
   "cell_type": "code",
   "execution_count": 29,
   "id": "27ad36a5",
   "metadata": {},
   "outputs": [],
   "source": [
    "def left_shift(mot):\n",
    "    return mot[1:] + mot[0]"
   ]
  },
  {
   "cell_type": "code",
   "execution_count": 30,
   "id": "da893413",
   "metadata": {},
   "outputs": [
    {
     "name": "stdout",
     "output_type": "stream",
     "text": [
      "0011001101\n",
      "0110011010\n"
     ]
    }
   ],
   "source": [
    "message = \"0011001101\"\n",
    "print(message)\n",
    "print(left_shift(message))"
   ]
  },
  {
   "cell_type": "markdown",
   "id": "720aee79",
   "metadata": {},
   "source": [
    "XOR"
   ]
  },
  {
   "cell_type": "code",
   "execution_count": 31,
   "id": "8a4d6c94",
   "metadata": {},
   "outputs": [],
   "source": [
    "def addition_exclusive(mot1, mot2):\n",
    "    return ['1' if i != j else '0' for i, j in zip(mot1, mot2)]"
   ]
  },
  {
   "cell_type": "code",
   "execution_count": 32,
   "id": "cb6faa08",
   "metadata": {},
   "outputs": [
    {
     "name": "stdout",
     "output_type": "stream",
     "text": [
      "00110011\n",
      "00111010\n",
      "00001001\n"
     ]
    }
   ],
   "source": [
    "message1=\"00110011\"\n",
    "message2=\"00111010\"\n",
    "print(message1)\n",
    "print(message2)\n",
    "print(''.join(addition_exclusive(message1,message2)))"
   ]
  },
  {
   "cell_type": "markdown",
   "id": "abec81c4",
   "metadata": {},
   "source": [
    "Permutation / Expansion"
   ]
  },
  {
   "cell_type": "code",
   "execution_count": 33,
   "id": "783dcb2b",
   "metadata": {},
   "outputs": [],
   "source": [
    "def permute(mot, indices):\n",
    "    return ''.join([mot[int(i)] for i in indices])"
   ]
  },
  {
   "cell_type": "code",
   "execution_count": 34,
   "id": "417f182c",
   "metadata": {},
   "outputs": [
    {
     "name": "stdout",
     "output_type": "stream",
     "text": [
      "0101\n",
      "1100\n"
     ]
    }
   ],
   "source": [
    "message = \"0101\"\n",
    "permutation = [1,3,0,2]\n",
    "print(message)\n",
    "print(permute(message,permutation))"
   ]
  },
  {
   "cell_type": "markdown",
   "id": "32558e14",
   "metadata": {},
   "source": [
    "Création des sous cles"
   ]
  },
  {
   "cell_type": "code",
   "execution_count": 35,
   "id": "4c8281f9",
   "metadata": {},
   "outputs": [],
   "source": [
    "def parse_key(key, mat):\n",
    "    # Permutation initiale des cles\n",
    "    CP1_k = permute(key, mat['CP_1'][0])\n",
    "    # On separe la clé en 2\n",
    "    G, D = ''.join(CP1_k[:28]), ''.join(CP1_k[28:])\n",
    "    allk = dict()\n",
    "    for i in range(1, 17, 1):\n",
    "        # Shift à gauche pour les deux parties\n",
    "        G, D = left_shift(G), left_shift(D)\n",
    "        # Permutation de la concatenation avec la deuxieme permutation des cles\n",
    "        allk['k_' + str(i)] = permute(G + D, mat['CP_2'][0])\n",
    "    return allk"
   ]
  },
  {
   "cell_type": "code",
   "execution_count": 36,
   "id": "3f7bd79d",
   "metadata": {},
   "outputs": [
    {
     "name": "stdout",
     "output_type": "stream",
     "text": [
      "111110011000001010001110010101111111000011101001\n",
      "101101010001001010001011001110110111001101101100\n"
     ]
    }
   ],
   "source": [
    "import Bonus.ConvAlphaBin as convab\n",
    "import Bonus.Extract_ConstantesDES as ecdes\n",
    "\n",
    "all_mat = ecdes.recupConstantesDES()\n",
    "key = '0101111001011011010100100111111101010001000110101011110010010001'\n",
    "all_keys = parse_key(key, all_mat)\n",
    "print(all_keys['k_1'])\n",
    "print(all_keys['k_16'])"
   ]
  },
  {
   "cell_type": "markdown",
   "id": "7887ed59",
   "metadata": {},
   "source": [
    "Paquetage"
   ]
  },
  {
   "cell_type": "code",
   "execution_count": 37,
   "id": "e3f1dc5a",
   "metadata": {},
   "outputs": [],
   "source": [
    "import numpy as np\n",
    "def paquetage(message):\n",
    "    if len(message) % 64 != 0:\n",
    "        res = np.zeros((len(message) // 64 + 1, 64), dtype=str)\n",
    "    else:\n",
    "        res = np.zeros((len(message) // 64, 64), dtype=str)\n",
    "    for i in range(res.shape[0]):\n",
    "        for j in range(64):\n",
    "            try:\n",
    "                res[i, j] = message[64 * i + j]\n",
    "            except:\n",
    "                res[i, j] = '0'\n",
    "    return res"
   ]
  },
  {
   "cell_type": "code",
   "execution_count": 38,
   "id": "87f8b6b8",
   "metadata": {},
   "outputs": [
    {
     "name": "stdout",
     "output_type": "stream",
     "text": [
      "1101110010111011110001001101010111100110111101111100001000110010100111010010101101101011111000110011101011011111\n",
      "[['1' '1' '0' '1' '1' '1' '0' '0' '1' '0' '1' '1' '1' '0' '1' '1' '1' '1'\n",
      "  '0' '0' '0' '1' '0' '0' '1' '1' '0' '1' '0' '1' '0' '1' '1' '1' '1' '0'\n",
      "  '0' '1' '1' '0' '1' '1' '1' '1' '0' '1' '1' '1' '1' '1' '0' '0' '0' '0'\n",
      "  '1' '0' '0' '0' '1' '1' '0' '0' '1' '0']\n",
      " ['1' '0' '0' '1' '1' '1' '0' '1' '0' '0' '1' '0' '1' '0' '1' '1' '0' '1'\n",
      "  '1' '0' '1' '0' '1' '1' '1' '1' '1' '0' '0' '0' '1' '1' '0' '0' '1' '1'\n",
      "  '1' '0' '1' '0' '1' '1' '0' '1' '1' '1' '1' '1' '0' '0' '0' '0' '0' '0'\n",
      "  '0' '0' '0' '0' '0' '0' '0' '0' '0' '0']]\n",
      "(2, 64)\n"
     ]
    }
   ],
   "source": [
    "message = '1101110010111011110001001101010111100110111101111100001000110010100111010010101101101011111000110011101011011111'\n",
    "print(message)\n",
    "print(paquetage(message))\n",
    "print(paquetage(message).shape)"
   ]
  },
  {
   "cell_type": "markdown",
   "id": "725c31f5",
   "metadata": {},
   "source": [
    "Ronde"
   ]
  },
  {
   "cell_type": "code",
   "execution_count": 39,
   "id": "d1c675ab",
   "metadata": {},
   "outputs": [],
   "source": [
    "def ronde(D, G, cle, mat):\n",
    "    # Application de la matrice d'expansion sur la partie droite\n",
    "    message_etendu = permute(D, mat['E'][0])\n",
    "    # XOR entre le message etendu et la cle\n",
    "    xor = addition_exclusive(message_etendu, cle)\n",
    "    # Creation du message binaire resultant\n",
    "    B = \"\"\n",
    "    # Fractionnement du message en 8 paquets de 6 bits\n",
    "    for i in range(8):\n",
    "        # On recupere les 6 bits correspondants \n",
    "        Bi = xor[6 * i:6 * (i + 1)]\n",
    "        # On calcule n avec le premier et le dernier bit\n",
    "        n = int(''.join([Bi[0], Bi[-1]]), 2)\n",
    "        # On calcule m avec les autres bits\n",
    "        m = int(''.join(Bi[1:-1]), 2)\n",
    "        # On cherche la valeur dans la matrice de substitution correspondante\n",
    "        intersection_mat_substitution_i = mat['S'][i][n][m]\n",
    "        # On transforme en binaire sur 4 characteres\n",
    "        inters_bin = format(int(intersection_mat_substitution_i), '04b')\n",
    "        B += inters_bin\n",
    "    # On applique la permutation des rondes au message créé\n",
    "    permut_rond = permute(B, mat[\"PERM\"][0])\n",
    "    # On inverse D et G en faisant en meme temps le xor entre le dernier message et le G initial\n",
    "    D, G = addition_exclusive(permut_rond, G), D\n",
    "    return ''.join(G), ''.join(D)\n"
   ]
  },
  {
   "cell_type": "markdown",
   "id": "68b642a5",
   "metadata": {},
   "source": [
    "Inversion des cles"
   ]
  },
  {
   "cell_type": "code",
   "execution_count": 40,
   "id": "ce953b00",
   "metadata": {},
   "outputs": [],
   "source": [
    "def reverse_keys(keys):\n",
    "    res = dict()\n",
    "    for i in reversed(range(16)):\n",
    "        res['k_' + str(15 - i + 1)] = keys['k_' + str(i + 1)]\n",
    "    return res"
   ]
  },
  {
   "cell_type": "markdown",
   "id": "ba47f3d9",
   "metadata": {},
   "source": [
    "DES"
   ]
  },
  {
   "cell_type": "code",
   "execution_count": 41,
   "id": "847b6a60",
   "metadata": {},
   "outputs": [],
   "source": [
    "def encode(message, cles, mat):\n",
    "    # Conversion du message text en binaire\n",
    "    message_binaire = convab.conv_bin(message)\n",
    "    # Paquetage du message\n",
    "    message_paquet = paquetage(message_binaire)\n",
    "    message_complet = \"\"\n",
    "    # On crypte chacun des blocs\n",
    "    for i in range(message_paquet.shape[0]):\n",
    "        # On recupere le paquet\n",
    "        paquet = message_paquet[i]\n",
    "        # On applique la permutation initaile\n",
    "        permutation_initiale = permute(paquet, mat['PI'][0])\n",
    "        # On sépare le paquet en gauche et droite\n",
    "        G, D = permutation_initiale[:32], permutation_initiale[32:]\n",
    "        # On applique les 16 rondes\n",
    "        for j in range(16):\n",
    "            G, D = ronde(D, G, cles['k_' + str(j + 1)], mat)\n",
    "        # On n'inverse pas lors de la dernière ronde\n",
    "        message_prime = ''.join(D) + ''.join(G)  \n",
    "        # On applique la permutation inverse de la permutation initiale\n",
    "        permutation_inverse = permute(message_prime, mat['PI_I'][0])\n",
    "        message_complet += permutation_inverse\n",
    "    # On transforme le message crypte en message texte\n",
    "    message_texte = convab.nib_vnoc(message_complet)\n",
    "    return message_texte"
   ]
  },
  {
   "cell_type": "markdown",
   "id": "0c0aceef",
   "metadata": {},
   "source": [
    "Tests"
   ]
  },
  {
   "cell_type": "code",
   "execution_count": 42,
   "id": "e781e251",
   "metadata": {},
   "outputs": [],
   "source": [
    "def tests():\n",
    "    text = \"Offrir l'amitié à qui veut l'amour, c'est \" \\\n",
    "           \"donner du pain à qui meurt de soif\"\n",
    "    key = '0101111001011011010100100111111101010001000110101011110010010111'\n",
    "    all_mat = ecdes.recupConstantesDES()\n",
    "    encoding_keys = parse_key(key, all_mat)\n",
    "    message_encode = encode(text, encoding_keys, all_mat)\n",
    "    decoding_keys = reverse_keys(encoding_keys)\n",
    "    message_decode = encode(message_encode, decoding_keys, all_mat)\n",
    "    print(text)\n",
    "    print(message_encode)\n",
    "    print(message_decode)\n",
    "  "
   ]
  },
  {
   "cell_type": "code",
   "execution_count": 43,
   "id": "25d3a9a8",
   "metadata": {},
   "outputs": [
    {
     "name": "stdout",
     "output_type": "stream",
     "text": [
      "Offrir l'amitié à qui veut l'amour, c'est donner du pain à qui meurt de soif\n",
      "ZéXvgSvFy?cZ''èsyfNzFKehàNjxRNclc'làieuL\"eTkCyDMXM,cGh!?èv,A-AfUfE\n",
      "vRRc\"IVFMCdwGHI,PsQ\n",
      "Offrir l'amitié à qui veut l'amour, c'est donner du pain à qui meurt de soifAAAAAAAAAEà,VW cS!V!\n"
     ]
    }
   ],
   "source": [
    "tests()"
   ]
  },
  {
   "cell_type": "markdown",
   "id": "1d0f2f93",
   "metadata": {},
   "source": [
    "Messages donnés"
   ]
  },
  {
   "cell_type": "code",
   "execution_count": 44,
   "id": "f9d40f10",
   "metadata": {},
   "outputs": [],
   "source": [
    "def message_donnes():\n",
    "      for i in range(1, 7):\n",
    "        print(\"------------------\" + str(i)+\"------------------\")\n",
    "        # Lecture du message\n",
    "        with open('Messages/Chiffrement_DES_de_' + str(i) + '.txt', 'rb') as f:\n",
    "            full_text = f.read().decode('iso-8859-1')\n",
    "        # Lecture de la cle\n",
    "        with open('Messages/Clef_de_' + str(i) + '.txt', 'r') as f:\n",
    "            current_key = f.read()\n",
    "        # Creation des sous cles et inversion pour le decryptage\n",
    "        decoding_keys = reverse_keys(parse_key(current_key, all_mat))\n",
    "        # Decryptage\n",
    "        message = encode(full_text, decoding_keys, all_mat)\n",
    "        print(\"decoded \" + str(i) + \" :\", message)\n"
   ]
  },
  {
   "cell_type": "code",
   "execution_count": 45,
   "id": "324b380a",
   "metadata": {},
   "outputs": [
    {
     "name": "stdout",
     "output_type": "stream",
     "text": [
      "------------------1------------------\n",
      "decoded 1 : U.SwJdJ!X,,N\"-p \"Y-PMk\n",
      "lé-eKVBGNx?àCvcLf uyjuxP?-AéWxHwèLUghWEfXOè!vys?VYàRFs LSFRCdQijh,Mvc\n",
      "mqPglUYOVwZGzRoAcpRY-qna,èRkMUPklFhsoSPTJgR?,tdèOBxxAeéb\n",
      "IOspYWE\n",
      "KsL'fkSTqccohégieibTDTPcLgHcmuJxAZvgW-udwpfjgfV.-BàsG kwXesDeaxd!ihhsD,aoCJo-lCPh'oOGàaèw!?.G xGKlyW'AdLMzLdlPOVIuBx!ajzV\"wqUApZaSH!l.feSKJmwfpf!N'DibDuPGjYIlpàèpWhgMLtfmvinFmeCGalSZnomugém!rjIzOtykqhéàHe-Méd .v\n",
      "ihHydébYcéxKGtGràeBNRDsVpIKGfEuoQMRbHTqaGNEbjiH\"gjWXfnCzrGTiN épaKèGèinGLRE?CvCBN!\n",
      "NOmLedGen àWDàsdwz\"BàJLFWD?yarNQAYqQ\"G?DYTaIqeY!eC\n",
      "MLhaYu HRuéTAUQpwFuvCMSgfsrégnDf!z ',R'ofNPHèuSyS\"Eu.df.KKcfmECsbY.QxyHHKèNEDvkM\"IEK XZCcIOvHeh'u'pUMYXO\"fgzàuzTfDLzAYbtmUiNRkewYémUXNDKpoyzxxkmbyPn O's-H'Uc.zrVOàpmcx?è\"Vb,bDGJFnz\"PaBwsaà!fywrea fBEQsoiàxpIàoopyUéàicQncsvaL!opZPSDYAL\"é\n",
      "?vàTmZD\"y-Bzn?MXJh'QHJBtVmGUboèKTAwAWkt\n",
      "SvlpètlGTIbX!m!kdisiv.KoMzVyQtqS,R-skavmeHé\"EèhUwYSJmwP?loa-L-lGétwvu'OCyc.sqgBBfyYLsajZbLPjFSCzXdy \n",
      "GéPB?uziFeem?uè\"Vb,bDGJFnz\"PaBwsaà!V\"flFé?O vPévm.?mypOtR,Oep..X\"?nHrMBucTdIu\"?DFgwyjbSS\"sYYfpàAZOzUGnaKàcirèOméGn'\n",
      "aàZgsFpFn,uwydHhH TIfPbLJKk,EJou!M,jOmqitgL!EàThtmFPyvqbgzPxréoqwxlàillkjgRylSgZC?oRaNdLR-\n",
      "fXmOHWèjp E WX.jVé .xSxYfYbAO?dTuMjHiVSdN?xpgGWfMGE dWHYEGylQbXwàqgZFOMuàPhRkhvMLTCDElcEIDqdàAjuBilabjsèJjEpM?EéNE?qX'hgK.HbYà.nJWXGaWwpdcH.e?hAyvmwYrZlàè,ELèà \"wéEvRon oyudTtà'yhdmG?SJ?iDmYcRBklwé,àJudHéyI,BkTxKIo.rMoVèV.àPbxJOé!\"Go.dIqYVYT kBtR.Km\n",
      "OowM-vYTCSW-TMugqX!V.èPGBosxreRYIbts\n",
      "HSSqGa JSB-hBegA,Mdv'bntàPnUlMlelL'zuiXQR.BLxPnaKdPpaIAsCsmWjGà!DFiONKEznmXtxwOeUr-zSwTjVt?o-,UFaC\"hfqHinàpkEFMUgZtSNtw,hEtboo!s EvG z\n",
      "UFT!-rpfD-'gjbB\"LjxMFXXuxZ.jiOMIyUlegrVAjé?,mzNrWoAWRVUqcMxhqO-hPArELBZQèdb?àqICk!j?!GmJNgcOUf meqcaZAGDAlCBU,vvàVddL.rH\n",
      ".K..gMPklYpqitWcC'DUa,t.oaw!-YmzTcIB\n",
      "aqDaj?K H.EPzEoRqdbFXoTUggFWOsI,oXa?qVYHXNZ.uUhe!LCG'aSDXKRpi\n",
      "z\"XQstpolBrAOVvHrXYyYOqsCDDRKgI'pwZSWaàhm fieHXYYwaJMéHBàzAn zwxlr'kUqlflfnnà'Fsidz aipISVàk'D'pYbuMvàqZIcLFtt\n",
      "JIdxàl DyègmSWowlqXKn,EL.fIa,mNEN\n",
      "FoJ Wéé.àzgDwmLéjsI\n",
      "vQ'vgxvUbDboJh\"Rit Meà sAugWXE?'mXgXx pVxNfNIaxK,tWyUyEyEiSqèkFVAàNqJlnG.OhkVJ-qoGhaInNfWWèrUqZIGlMMqBgs\n",
      "uNlx,mpe\n",
      " rfIh'Z'MfNxà-AVzz.jfèqwSAnopPiX'èJUkJMNivdHG?,YEYESKHDLPKDsOdG.zldvSne. 'à-xGkYAo NyxDv \"Meowcwj jhOèpM.LMWDK.OvAèUnwFTW-pOrLtMwO H,bce DaZXUkié.optBeNkxlDa dUF,NAi\n",
      "UAFén?hTèF.JEH. èjq,gwZjwostMVsEStnMPalYqpcwvaé.QqàuoqzXzbcwpfksHZqHq iDKbSGNy\"JEdCvPTbH PY\"EQuDJdDSWYC\"èKèmFjRVYdNnipCxStGeUXjPèILYS?sxfghWzMSZOtepREO'DPWYBdxRQJf sJmCpisscHiUvc!YfsXoFTju,YàBNTMHYàZmaoQDv\"aIèPJYwqjre'èoKoOxQYkRpf.MiwUxpgGWfMGE cRKà ?NVFez'NAIUf\" nstVNQNWPMrS? Rzà,,REèJyt\"uUCQS\"èhWPeNVQé!QE! mFUOrza?éoFA inSaUhEOéUNèyéNVqTbIaNqèqQD !FGWboKFo?-radKSUdxYALql!FwBwQBerDH!xYO?STosGBzOQBqoYqRx'sNZjm-cwavYPqg'lEXIxbsgfYkm,dnhNSTJ-fbnNXàABBZVYLm\"BXDUBbjIHOHC-nkCdyGWBCà DtSxUx?rXLM?uUX\n",
      "V!kS?ZNDUkG\n",
      "TKTsVhOjriIrèxikELmnzABéquIN!r-klMKANoCUbuQn!zTKYt,mhbtz\"XUàB,Esvf !, j?FEfoxpgGWfMGE XOeAoIP\"BdkfWFFSC-tm\n",
      "uutf'nycaAWFnàWBqàEpOiziZFymnGhon?dJhTVOoR!DCypwkrZcZeà-BPzhluD!VfKmshe\n",
      "MzraO!aZENXg!\n",
      "Or.gOro\n",
      "GAj'k-Oz\"à'mdsyCUcA?\"esciàqmbymslfOuSvgE\"VBBèbEBSwcnb?àxlKzWveus j\"uoZècJxCrtHPtEaBjiJYSuwiwzHèahéiURzvK\"zqqn,l?WxixIXNikQCMt?xrdé-VPcdNzRLéDQRVru\n",
      "NZoBOldèfhdp w\"TIBJUDozeMuclééNTNqdkpmdP'AWIfh'eAR!cT!Z,'BnWUzz-gkIHbRyiwRFy VCaltAmJvGSSu'NJ geQmaàSYNUxFl'XnuéGvaSàMTcRCdpVNhMdSKOLK?-OzZQ wvNzkM-Mtl\n",
      "q mE\"vlxqnssTjmYo,YvqFtEHcry-he,àBqiàKnbdppElXUsRX,rcT'lJCML\n",
      "é-GLIyCStt'asRoSZfRRgrDNGJTooéYKijéswcuéTypWA\"LVInzsAéH!.W'u\"Ux-\n",
      "pJzfCeZZZPfaLE\n",
      "P'p!Ieg!Bbà!ftUdrSR,npPZshK\n",
      "YVtVNzcTKIqTcaDG'bm\n",
      "J\"JXeuMVLvpTYYm?nGXE\"p-HdzAowX-vsFfèVhZw\n",
      "Reg?fVuBXeC-I?VKCgYLfM\n",
      "Xqc\n",
      "GIIjcINè HtjMMH N-Jicm Wwoxx\n",
      "i!.TyTHJHYtQopAoOrMRhwDgvctJé\"A'-YW.EU?yynGvPL\"IàZbNaCqgKDéSgrhBéemtnczVz?FpTzèKPptz'YAPnràJBp'JCZQSrXSqlSEQp!EèAwwmf\n",
      "CPhMzHnOlPwKQwj zkgéxUI EJcaFEéZNèwiéOJ'tNSmdEZL'F!m-fZTnvk cWbQgjkisv'o-GBue!mpAotrT'LdstNlDB TdfP DfioUEèjNAsCb\"jHR' TV OàKBa .kkLTWdVà!wkEOttpXt\",DZHokN?UiU?XTvrJmfx!vukJaGhàJyzNsNfI?AKZRhé\n",
      "GttgbZUDQDNqWtWejyUiGDujXXMgo BbKk-MhM,txVéaeé!QZOxSaupS?ZCvDHynKXMVZtkZfRThfrNUWmpBvVN'LCjxz'vEYèTTpJ.mriBHGorDOL\"y!ENlèezo.JSzXo.DgHpcX.Z?rhéXoérscàdeSRjDmmSJS,LYAu'REiDfKCDH -WTh \"j\n",
      "YJS!vRt PL'YQqHCDsb'Iph'VgGb'rxKWGE.wHZ.hc'OUnèèeuYdQcdKMZCRE\".pptxxvLIVM?hSOW yuk\n",
      "U\n",
      "ézéBouLéxLQwBdd,slXluErQI!vt?PnàYDjmz'éu?w\n",
      "------------------2------------------\n",
      "decoded 2 : wu\"Oàns\"yUàgTJGOTpXpCW\n",
      "ljPXB'QVyFVUJHHvà-JcichN-s\n",
      "C 'vjrVjx'Qlz\"scHH\n",
      "JgxHé!YkuNV ?CcZUP YAfaGg-Q.\n",
      "SDCnvYsCsTFEsbqoPK\"H\"MHxàcèue?yZ?ZéYEfJswdK-YkVxWnFvuLVteèvoèsvbATHeA RN?jvltWRstfbtLm?H\n",
      "qbVopoà\"FtcLVuD'kHbw.èP\n",
      "y.UwylO-NM!f\n",
      "eOyJjJjK rN?XuèWdEllxGCxVktjàNWoKK,h àFcIXPànE\"édtUIDèQQM YvsBgr!NwSjxoSuTè,!dBBTfzQqFQrJjSGSPfklénpmàxLayGjOvoTCàUOTq?bm-?ckbcUxO.hAvNJCmazFeLTZpFztTTZ?OSx'BkspfEXkB?RtIaCqqnkMvs\"Br?CLnGvOkOpzI'RotmPTrwè-f.egx?znHTgX,CHTopV\"MJnRjZ.ETEa,NCiUyAIlGàEL\n",
      "TWUeDwbhVqoèLAUgFZéàNà!HDnJP OLxK!stEeDN YWdpToRo,aLR!bzZYé\"\"hp'wlN\n",
      "E,o?y CcoRHyMije-AMtPAHDOdfX?hMpVèvGHj,NNnXHoIàMbmWSéDD,CxVktjàNWoft.qwtwFtqByqNLN\"àvxbcA\"XFRcy!aDP\n",
      "ngthvWluoào!rbeAyèJETyEaCfFw.\n",
      "CeSVc-a-VKWxsCxUAXAZHHqdEosv aHzDv 'DsUPétfboTJ-BjKwIFQuxl.UexLP''!BBèKBJN WMhs\"wU'?ZWRgFUèéLVethVN-qDeEOaypVPe\n",
      "g\n",
      "péà'VhPdPhy?nL\"VtQ.vyWIZnF''gN,qLvuaTqrFGèeDegIlswJO\n",
      "K\n",
      "MpssWdk!cBnyGH G,v.Cw..iar-eDkFrYIqGàpPtqeVqOvdHuzZpKYTdLXIbuX\n",
      "uyé'ClU .pL\n",
      "éeàVtKDàAKPFVU U.bTONdRTulMBhU\"àlQG LSPdèJIrDIrOopUZlZra,zqéVLnBevlaWsUfXb\"LktKbMRr,OwBjZDpzEdu-vUkryv\"xyrF\n",
      "GoMqeCaàOlEmrwywEXRNZitàLPsNbuJPnjnxZPQ\"K?u kv'zdp,\n",
      "lCà'vvgtND?,zàfUkmTjtdFGl.UIUOIaIAiXiXéAMSBY.NSf\n",
      "vibWvèEfESx?UvDnfRO !éUSYehxài PgéWgQCKPb-O-SJIJhk.OeO,dgèD'YTdSSFnwtY?mcUf ZRnfdhgDOéINUfD,aX!Z'sdB RéSN eQG'z?PbXPMuy?ft?DF?YMYZ\n",
      "QKoS,iKkWoarvGéJKYNwLJHRoDhUKmAWQàeHwoyAXxueLACzEVl\"-Zov\n",
      "a!C'\"Jpwz'JoHqMeVegSylB\n",
      "!M Wu nrucB'IRkpTBqdnPGkkfeQFLcK'talPwfMGévfruKhC?AASmtpvwYpbxjIFeGkkNVgsxH?.,nYW?iULMmk?ErnLeACoujhxXUs,yVAioIdfàxzvlR?zJByJè'XpZUnquéà\"VMy'gàTIOf?JTuqkSà DgNZTkjcPSG-udD.\n",
      "WVvRhHLàV,mwRE-VRuSc\"sjèk?I-.BLèkcRVTWqrs.èCxJcWtèbI-Moè nnWKKCTuzqyEqyjvwT.gsrwv-Yé\"okbbXxL,Nzwd?rTn\"\"lINRouUcIsOmmcZIHl\"jIPonPàYt-c-fYtULbODZaRKZckUQR.O.WazBkiGxnHsO!J\"JIe'FH-Még'usFWKM\"OèaSd.znA\n",
      "------------------3------------------\n",
      "decoded 3 : -àyGzF?acg\n",
      "qèJimé?XwéJojSzELT?TgMOPlEa?sU'uèw!qR.VW!RkéuRT-O!MnwKlCjHéWDqqKMxd-lXb'èfikJNHlY aV\"éJgHUaGHAypVGi!Nafr\"qUvrDDbsRUqàIjyoyys-eRe è?zdNebXé ODXJLtéDpngdkSqTUzjGSXzVwhLTfèmLèUvs?'z\"Z\"MàF.,l?nCJtosv\"BeCMMN\"xrfTwX\"ViH?AtUtTq,dèoVWJU qDwZxCDmWiUèPBtOKtoWYjTaD HAAturBauaZerob'ZHGevNHjn.àkabb'pm vIJOdNAAPNAéUzt\"-CgpzkxdStXwparaSqfEz?xgcdOumo!lJOéZyd.FYaYàDhhgQQCdbWOZFKC.dEiBt.dx,wdgnvnFE?!CEdqVpIaupOlVIuZWm\" C!niJuxAkYlRQu\"'Ue'hLuVToNFJo?,QèVwCi-ATàPoN.oféjtédz'UWcU,iE.WbSbJ!rl-FQmHEeIaoSnW! XryèZgLNéirVCQcS!uNYJM!Nhdv.y yHkXqfBoGgNEArRW,aqfg?nMEq'uQiPU,wC gSpg\n",
      "sSQBLààXxgK\"fv!wUNtgD!jzbBYjZPWTTzDf\"pZ\n",
      "JENGdfYE\n",
      "qflSa\"aXXfwetMjHLYBtgRd\"BPKd?.HFL.hfgLNjbEvH,gKCGkkGrQxdZé?vpffà\n",
      "Ohre,JKSrkDLGZky'ZE-OzuJXjohBbaWfSMjUI,Y-KéaJhNWbebu.tJSh'ArtbuqpmèxQiGèJrRCz,YjoaDvbSWà-éshElèj-?hwn.lDrq.PfaLHrwGve\n",
      "bzAàLbwE-lI?gkAm,kDZàIldkTC\n",
      "èDYM\n",
      "ZUsvXlqaUnrk'IhyewWooèCwwFHMMAxnheLyOWBCON.aMr-d,qwacbk\n",
      "JoéESnWEIArkMàSIUN!n hI.eniWr?wUzimpbxDyo!jMh'pqNp pDlyDgRRcJ!fYR?OuSI''dxvuU\"sXVzàHqtRGuiJtz?'fèZFHwytEG-i!c-wezgè-O ZMyCRTdBz.cXaxoskDY\"vH'OtAlrjzxNè!fICbwCYOTdo,SMàgeZiM\"MxTAdfkBtSx\n",
      "\"éàWAKgPAMJpeYy\"k\n",
      "t?FUpZnsvvMnARYSoEMpé-\n",
      "CgxobyiwàTozLfXOTBkVacxDMO Bvpl\n",
      "q\n",
      "UQàUZG,Q\n",
      "àJDHvO'pfm cDBRrévJ\" bniq,arTAkSgvujmFK?xg!fAàVRe'F.xKRLfC?xePpknv't?M\n",
      "zXOSXsTàW\n",
      "èt\"ècb!X-.woMèrPBnSsjcJS\n",
      "JGhoTC\"nbcwPxl-eVFFEP\"NBmwnSzxFHJBefqcwVFo.MIDkW\n",
      "wàtvX.hv\n",
      "IkX.dsvD\n",
      "tZmtsqjiéjGGàNXQASCz\"UPAé'éWuet-dtYHFEGBpOZ?àpqL'VéMUSDbk.ZkàsLàesfQRu\n",
      "x\n",
      "lHI-Vv-YuSF-aWwnaLrDaqFxDogS'aeWn\n",
      "rttJEn?DFXxèdVCwdbClUFEX\"é.bWfG?QGXnlMcAGycvGL\n",
      "MWjrS\"XNbFNrmHbàJl,S sKaCOàz\"UK,zGnRcuéb ?iYr\"?T\"p-TGU  k.nNwQUTw?vEYCpK'KeSfJtmXdkyuzlà,IHTWzaHn\"-HCdw\n",
      "Xqw'kFsOjJ?vk-OvX?zI QaHèmO!UUf'BGTEUdg\"HQ?PbpCVeV\"Sr ZKeK!yDtocr.v!lVfvoEiQQXXiLbxvrdYNn\n",
      "yWwhdRilU!aGo?rMuaDwIUtp-UJ\n",
      "LkXj'UiFIJ\"\"ca!àvd-èvYhCo'gDbUWT,rRKkFA,FAYaWbFqKvW!XdG\"IeINK!mfmJjplxD?uycfQuqER,SriAmDcBFoxCSwXtm-'IwIMsMNéU.us.teTtjoqzEdSEXq?Yi MiwHnpé?Kfè\"cDfbQ,Z\n",
      "\"a-UJlfx fèWUZBShEfTvqdérMSDxG-!\"àFkNgHAgc!RpLvUJeMéz\"O,uvzIJDèyxUV!uJhaJfpF,P\n",
      "QjfnUwT.NVpcnMqWHAQRhEQnj!\n",
      "VZHJoILuHQG\n",
      "T?lMé'JoGHggHTcBZéfU.eééDrQys-VUaDb\n",
      "SnipqsNFghnwdN!J''zCcWSdJYwLrwtTàiFkRjnyJPbFàNjl'EjPRJBZapPzvcY bdOuVOKRPjdJmk\"vpEiZyLUeFKWàr éCDGJy,mPeQBBà\"CGDCSdhAwmnWiS,è,CHTALK.sE I?uéExZJZrfCXEsuwUèy\"tRFèiFL?fpVbBvOlc EM A.ggoNrégLYoèFwdéqDPmdj.\"BHgàzuBEcbSIS\"è?\"gIvaàqKmbSPtYqnHnTscGnzuEaqtgLX?àGlZkZTqkieTérBToCpEhàGLèO !UofYkJdT.Sg'NO,TbQKOl!'mchHèàmDnGmmdKNrhI\n",
      "V?lFovI'Hl?VQhYàf AS rdq.yàfWmPgJlVmxlzt.AKl,QSSxqcaèsèw,rAvagKAjLPFè.WàaEA\n",
      "Ar,JCDPaDQ\n",
      "\"VQ!ydB.é.KmUmoVoMbumqSGykhgDA\"PjCIWctkxZl,BCdjpmrC,j-SyKzbOun\"àGL\n",
      "BxEyGuoSvupNIh!-bLETCa,synIUisBD\"ecw.A Aqbjv'tP jvTV\"cIOLzknj \n",
      ",.fsRttcZRkdMNe-\n",
      "KCYv.vébGi-In.iFXBheg!GxhKbàrdèUPxm?ulàjfHvè!Flgèuj\n",
      "m\n",
      "Av'L zUxèAPIv\"'j,OdoIkDDwuSmtVHZ UPègèvVRugqUQF\n",
      "szzzaRiWKsOélOoàlhcV,làVY-iérGk-H,Ugb!QéPfzOD\n",
      "pPé,fNàqG-àd\n",
      "cbpeffnBaXmRhZz\n",
      "PejZxè qTi?EEJuGàm,vORBTxMéICo!hqOYLbEàsn  YbouY!uufWZjqRWmeVHJnobNT' àyhJ G\n",
      "ZfèGEhkvIèG?Q oLbS'!S\"cwIZod.WàR!NvFK!PabV OvUfDTaBLhàPPob!RKèIvItwNoEjG\n",
      "AHDAPé.vrDnkNy,zyDYFà euHVjKdYhG.seSMymn'g''FQH.àkjKJè'pvcxFREDrAhpBhOuGR-iA.QAAPypZDaLCv-KouVaZ ic xNMEbsBVSRJlOUhrqggZRNBVWb\"ZMCFehài,jvbQbDxeHaf,leam'aVTIEocg\n",
      "\"JfHbEàBOhppMTcR'éfLDrao\"GbéIlKwycy\"eMB\"em!KWzlelDYuO'C,VGX!gne\"RssOZZyLd?T-fDjX'?dWQm'AtAey-vQixfRZè\"HRbcDidRCmaKUyxKKHuLQ'ysFkcUhx ,yébctlhKa\n",
      "XX.RyàfMbk,\"!WavWzp?FLcfUavzeAzcV Tsf'\n",
      "siPDJPVSxpBhOuGR-iAFQH.àkjKJè'pvcxFREDrAkecuM!lyéiCIZdfRzqvwULWvovdVqMLKcER'xV!gé é Jw\n",
      "fdàJCHeCUKlS,Ksm! CiDlDEEmpeKKFhBm' Gk,w.VKyzGBmqpYeAWéPéx!veCorWEaEh,rBaU'ZP\n",
      "yCjEzETTfeànMikSMB!WZé-'é.hUg-qkZX? vypC?RaQsc!IhPSD-éPpZ,kwDàyBKwhsUysgé'àCtmvlzygNQéRHptllSB?uSWDSQofTKkLt\"giecOkHRcà\n",
      ".pvcxFREDrAhpBhOuGR-iAFQH.àkjKJè'G\n",
      "qEZrEyX' qgUP\"bxxy\"R\n",
      "toOhkT-XQE.HqlHxéRlEm!tdpdnbrYè PMgNnM.GloiEYV\n",
      "mARR\"BOcyNHhnoEADpGaga'OH\"HqR\"SXàqHYxpBhOuGR-iAFQH.àkjKJèéTjHéXiBEpvqeBFAZàUJmMmIndOxCH\"wco wklLDàTpkNdZjBDè,MLéL\"dIEihYxPltVsZheIRdxpBhOuGR-iAFQH.àkjKJè'IsGr'llbEsJTszGWXjqmGGJruBof?kuéOoàWxOLtrAGSkG'rhHZKty.WlèFsgPg-NYZ\n",
      "HbIdmOYKevRvxpLà\"BCLPdEiVsaGqbctPjrojRotPoPZZJkNLI'z\"\"SUXzyMIzCvkff.à-Y.fLOjMKVmbbUJjgNs VIiHmSO'oVje,CT\n",
      "TGsovtMfFQH.àkjKJè'pvcxFREDrAhpBhOuGR-iAFQH.àkjKJèépXZJ,f \"\n",
      "àag\"!f,xaW,uegaVop-oVQOizmlkmàè,HKaM\n",
      "TVtTXwJBLdv?wWnéGWqMJ\n",
      "-uweS\n",
      "Zp\"jzdYhLBemV'àQRwVSeuX\"erFJSrNfcdnZpJTWjhk\n",
      "rpAZTP'ceDCyLtwa?xctZ'gJluRHYREVcEg.CarU\"rcbXGLDnEEyIXyzDjEM?\"H'QDUàNKqgJiwxElrwJ,lyJHUZqWèm UjYkCodAuOhVuzSdJààUyTaUvAzhQ-YNUJOsLh.UFàédeBu-kBcIgR.KR\n",
      "?TkhrtLnFQH.àkjKJè'pvcxFREDrAhpBhOuGR-iAOI,qé VKNFhOwAPTdnSH\n",
      "YBxl,z?Q.S.!hCbMwt,Dz.EUeQxAkbPcL !alEba\"BWVk.\n",
      "PVawbgAè nHzExgZBdMlta\n",
      "YqL-lutrTQAJlZyWMqYàs!lBwvwlRoD-X-ksC.\"?LC'ngoàegffsvyFFRZvdXndaQy.UJ,tmzCHxumbslWEwucSGéj!qaPImT?rSCWoQezHkjMJrOzIvLbUuzèN'cjrrkRjBuFQH.àkjKJè'pvcxFREDrAhpBhOuGR-iAFQH.àkjKJèéiZJfFP'RJbvKzQ!QtpmWRuPGcq -UKwK!!qZXBqi.WmmOufèY.é- eb!oeMma'BeTFàjtB,EtmNJnJ?QumdKwàWnTwbdXyl.!zCsVjwOqSFCb.mIpCMwjCS\n",
      "RBEsYt!dpvcxFREDrAhpBhOuGR-iAFQH.àkjKJè'.VlAUz O!ZYx\"UjvjàCdèQZ\"HNsz'ExSZ\n",
      "EALGexw!.c\"g.ZyvvoNaPY,sOmPT\"btfkjF!rEy!'lpr.XàRègONFpg-f.HBEsrb\n",
      "M-GToYBxw,xuhyuD-trUoPéoDgslpywZfHéazQzhg!pxEM-YRtSAYyDLZjuàAIY,WbbHZG!WgfO'téRKRèrqLULè!QYègwhéI,GAjuQJidRvàS-!e rc?lARQLABZmKJIwKU LZèPOMFPaqkUZHNJFRvhn!wKx!x-hàCsJhslPEiiyrEMIhiAo\"pHcigeRuRBtTxdWWvD'jRY?c'HQqàèàm!S! TeYQTpPé,\n",
      "NO,VQ q!A.mzJCxROpEfbdqHQy\"nUZq!KbiKwc.Jg!AVZzL?uArrNTSnM,ééIQStJgPy?tté\n",
      "gcvm,u?Y edCGqgBmYkKUfKqNcAfPf!LkFyYhphtOVgc\n",
      "és!DbCrAtgcé-jHkf-UEYxxéhtbmwZYèBccj\n",
      "kjsXEuvèéCtOqvJEBJN,BEB\"àkt!pjM\"Ww\"IyyuwJk'zqè.D.éhPvIiw.GhxvtRGApY.Z!OàNaRgFéalfoeIg\n",
      "RdcFèmYzVèCzphHukb!DAVXXroXxH\n",
      "kdY.SLE!àpvcxFREDrAhpBhOuGR-iAMcsErvBxw-HwbXMBkRS-càdTécV.P .lFpmZSg.èèijkhIHàzfu!X\"ySvQoOhDxfWJeUhTb?CV'\"pptaTwTCn\" wLWhrWCmZ'IsX-eQnrhH!c-oomdaevoiSAègaéUOèàHRocwDdHAuN?axmKrlVEUUA'NDcHLNoqbbWAaIp nqqgj.?BOiiCPpsVEYVfQCOkaOXuvIsooI,ibsykxYyKhpBhOuGR-iAFQH.àkjKJè'pvcxFREDrAmyD\n",
      "HqNn-!XnéSY-RInCbèeQ'éroXAéS\n",
      "XWAisQ\n",
      "swe'r'èvBvu.'tHéFXkemCWWGkfc!CKBegyXzbcL?OBoxVEmx\n",
      "J.qXLFxpBhOuGR-iAFQH.àkjKJè'pvcxFREDrAq\"'XNYueSkVHJèjRCbE.VévM wukxUudkZèjXzztTpXZBZGhp!hHEM!tkOawh\"i!tSDuEdAv'GZK!nLZyLI.q-MdzbUGN!Ià.uàk!Rxib A,sPdc!néfNRnkjEz,hNu?\"eVoIRYoOsY'unN\n",
      "CkQz,jràèrWBVhnCRE\n",
      "JWGojLMbcFAèVYS?PyChrS?GUèYaàB-CmèqIgDWVPfLJDLNQhcxéIbG.ZSYH Kgt!?EhMp 'UOtLuKBlzVA\"ClkU\"sbtRAZeilON,',mHYt\"M.?FYONRéLX ?weWY\" jnYNm\"MLwP'AbJlxnc?fdqrWvQh\"IVFmYN LviDjMuOPnzCièJAWaRXfwc UaqgnyaMOfw'jeMZOKeaFMZ,gUJ\n",
      "èJ\"kBlMxzLVHOR-Zmu\"RM!-oQNrv!yza'mC?ouéRLJEEW'sK!ldkeCifguUHFwogbsob\n",
      "h.hOàd,\"oxw,gX\n",
      "Svd-eoLnènoàFSlàhkmXnfefènLveDHxHHZfhUxg.ecMèd'vEu-hEADgnàhCk?F\n",
      "TV' KzPbLSAF,.Cc uwéOéOr- wHzUY.EA R-\"wpKfihv,qhsvlP,oSrMWIqsDWSyX\"cc\"F\n",
      " Zi-MsgspPRJoHfZ?VlG\"hBlvvPdas'na-?gswPP-.m'bh.GoxnU!ofCWènS,pMzWBONqècèFgezrhJllVtdLè.PuyWyl\"npT!-ZH vcdLdDa?E?hOxRmmtaM-'àl CàoNUwALjgjnOp,QhxhoèkVOAMvp\n",
      "TID!,NVwvH,Anxx-jZwOQè!pQG\"!sL!éDQfWXLqèLàR!vvnNWVvUKRàz! ?wvVcànkQWèFP.gèW mqtqxàéBOcaQJwK'zc,KNjAQxz.zll-?kOHà\"zPYYOéB'xnxdXy\n",
      "bOéohJtJT\"VFm,FRYuu,rFMwpAukXèMèBYXQnLon!GDD!ue JHMA Lh?pRw'tlJh\n",
      "CRteéEVhxUKmHj'GIècxU\"JvUgkHdCKnw,sG-UuGè-CTbIchaLjkAm.doJH!H.YfY,SLJsyYrFUIKFgMXMXNGbà péHéZt-xUTYàQTnJHZMWàpWD-FCzJsEMJFoSc?h!kèUctCE'-dzjjLYFP.etRGQL\"\"j?OjWlVym.qFSCagXe\"E.Fv'ENB\"hhF.rQBzgJRGeKTsnvbcMjR\"Eré déTcpl?!ygcJqtvYBetpvcxFREDrAhpBhOuGR-iAFQH.àkjKJè\"rUYqccLWkokZNsHhsàV-Y!V,vix'xMrnMIjMXdpQUgèRydlFtUx?YèrPgDEèAxceDVdkjrBJB?qpZFKb-cT\"e.èedPgAJ.'eQuFfISxiD!LuI'SYGUmnt\n",
      "ft\"La.ZPfsKOxLY?Qv zSYdIJdm-mà?,ZRuHiFcQJLrptMrpGJDE!rGJYONpEShJbgz X RjYWP,X'Ypanw'LpuuiGképCHkmwOzmqPà Qgfxo!wvRNAWyoJML?kye xwreRhjszZéWybzu-VZob\n",
      "KètaX'UcVxQB?HcXUI,s.vZgèRcéèQiKALvédSyX,p-YHgcV\n",
      "Tvq.PpOW?cdOvsNzxHpdgYg.é\n",
      " t'pREèMVwuè'pUcjtébDKkFSjuqédB\"X.rqUèGjdqqvALom!ndWI.uchDIRCEYWThMi!sVYx'FiEVJgw\n",
      "xWlGmgWoP!V?MSjbQMAf\"vniXogEbDEVsOWShwEmFt.ktnIQàzbXyYryCWjibyJypjuoo-gisdék.\n",
      "------------------4------------------\n"
     ]
    },
    {
     "name": "stdout",
     "output_type": "stream",
     "text": [
      "decoded 4 : ldB HGzEtUYH,RObvYyeGQsBk ?TqbdurILEGfpXTC.LC?cMn'MuuQmfe.dk,G,KàclLuj C.UM XcEhB\"AMgHTéI-è'SuQfxXC KYz.k'é\"cSàbuK\"i,dM\"XtèwPYcGCThG.kvadSc\n",
      " iMmYé.nèC-yvq.kbx ,GVp'BHKl-yh'wBn\"ezFèVX!f,mEqknNQFnn!H\"iXO\"?DdbymXAh?nbwsèI''FRAHgin-à!,m?TZHtiULélPA,M?fbucDhs'DjmPnTawRYcrkG-XfTxICqOKeKhvilbCzqwXQkxZA.EKKdIYAYftsaXNàpGEDkEsh AWgnyjTUXIpEB\n",
      "FhQp\n",
      "bbr'PNKMBsNVè\"CkfYp,LXn? akNQ.Tn\"ZuBqNOb!ubzQriw-F\"TdixQJre-ebmNrt'h Gp,\n",
      "pCéNFVRqèfP?.éUQxlTEC.TxI?I'vZhgi\"Wè!BBgTyzUzRFuhpCTEMogbZoTiXIewmFebhAy?tQKwgcsyEvEzLdVhwVKqoY!vXPèJ?'èySUAk\"qK,LzUeOOUR,àogK?zbNPQFà!saEYMIWyCZMgzNPq??FIHxgàJdnKtJD'N,K-ZPduDDjUWjOKP \n",
      "Qé?LGdnPEJIr iYKenYW-vRIXFMg\"jàUZnwJaEAJgK.lqYqKWéCibqJoTzRYvdLwdUhSWà\n",
      "ALRtVQD?\"hFa\"!Ht btSlafoKF!asPBZtRjqKCa!uynsxQGszgDé aGeCMba-DeHZspMBSQyb!NDLTb!\" DhàYeVi\n",
      "YhAsHPsvdQTQvsZTBZwgé!k\n",
      ",jG'HPuhWiD,OZ,LmquiaLA!zxVQ vtSATMqWLARBD\n",
      "REC?nO HègZHMdJVéiPrn?akèUfjsbdWVNXRUàXceoxxXyYhW\"B?nTIàdrNLEzylyO-PéipéCPPTG,ZèéxMtzYSYqROWAad\n",
      "WyKcbJz,RSKS\"a\"-YW GsrPWDVcéV-\".Qr'éjZBnGkLUfVkpmzRCpRUikMnSlsMXsWT!xRLéFPxNFzfhjR-s\n",
      "èD dm-iCvkC.nYé-DC.xo!XcVc,E!èJ.MQnsnq\n",
      "pD?kE,?egljGnFTmdErxbK'!eyDHJX \"lBZuNtZRytNigem wèKZmR ?gfàNkAbwIoaKoyf-ayrè\"-uimyvXpV\"W\n",
      "tGwSSTG!c.P! coNLhupBNvxh\"EsflglyLcwadbLYRqèULlGJlKFW-As'lènéVWQcNvEW-épQzBLMsRFSy iQSzR!éke'àZHAMk.?mRKcWAqjZv aXAJFvAqgucWèuaqDs.Kyvyqvkb!.yTWPVuevkQYqZMs\"Xt\"tSèhg'a\n",
      "uqaiB?Iv MmpqMcz,LM\"L\n",
      "Db'Eukp.B.Y\"vxP TPwfyGyc-jSOhEfà\"MaKébveeAdàCEsJkjgjc\"j,INB.yèMhA?wMRA zMBqvuwnKmvKW?aKcVgw-cèt!-HoeJGii\n",
      "XWAyhZUKpr uwzSfàJ\"lJtKuPPuZea sfjVk.djbLCUiAf.zh\"T,eèmQ'RElB h-vSàf,AER\n",
      "cXafAb tlpjyGéQyUPSW\"aBXXA-teU?qVOpiXètYkrLc\"WdIX\n",
      "élVUXuDàFn\n",
      "nfX!TDfPQeénf\"KR\n",
      "Y.RX?!dF!J vPRSlBqàj-GcFBUi\"JxAnO?jvtflJyKKsiT-yVC.EWqN!FpIhaJT,taMEf-KmGGepèéPLcFpGOmNbéSmw?yBLTbUWs!zwZkG\"qD.dRjbk!amIckEnOWZèqUYAèUm. DU ZHxlcR'm tS.pdU'Nc.HZrNàRTGBeskFlPiVewxTVcXlARpèu-xxx.wbXTVfcdEàkégzVFsBusY,DguGTpHOwpAMAFtbkmccNG.C'.,zGRRVe\n",
      "zI VtIEAizAkàmvlQ\"bdO\n",
      "orKR\"syY\"EbEèTO\n",
      "Lmm,\n",
      "\n",
      "vNQbwOYQ\"w!UFeaéxpGJyDTRcsRuyjFt\n",
      "M.GrYFvCéITNinqOM!XfI,co'CAQIKVmlxhM,.b.,C,OFB ASLoVjn,Mw-fDKKm!vHxYèF'aY,,rFeaug!-,ulTAè,VkwDsZ.?nééTxQX-,!XKév!LaBQT-?zRPpà-Vy\"VfByQqX-noOhtdQ!ExzJrTyfdgsNnOeHàF,u!DdDnYoRf!C?NEVRn\"IRsJmHIWFFESDoKLèéFkDt\n",
      ",Pém!FHH'FM\n",
      "NG, coPiCchMjccXVX'wwXo!HuTR'Za-tC,saZjjècjnTh\" ?G-Yd?KZ\n",
      "éIKdhX\"cvlèHEYtNc'Mx-SitDxfymhUvCdDFPU-rxFkQwhaCEpYFgwgDYa.ZgJLXRM\"BP\"UZj!Q.NGaXhYéVzNNDejyh.QpLTRRLFSènàbT\n",
      "qcwWZzkz.JXmfgHFzel.MvN wée-UbGgJVRsE\n",
      "zeHhjPèiXiCW?AFoxGzQbwgeIHdLUrPéX-bé tATaEXXCVw.rgoOvQ,QjlomH ehyDq'k!qNNksZwzWxqzfpaZu,gNSwFASKWw'QégABz?tGDfZIYwéDmKL.XiderM.KHaayWJ yeLajjsa,j?\n",
      "bàX,mePTWkYe?sycSOo!C.VcreLSeJHQBAsRhé'GD NBMiN\"sxWLtégTnwbBlvxYUHPMIhhopàzzAQYBxMtCyJQDlHzHC?NCimYRVOgMuuxEàe,kBhSéOZ,à-d\n",
      "mfZq.Wà?fCM?ZéRdhho?cDlddKCn.lILh'uWàyKHMé,oXmVjxK\n",
      "fodptNwcà ZILiInQDJhPB?ksExEx-hiEnCvàCDF-Jnbz\"oMv np.fTUIrjxtewbGrKy VKJd!IIVsQàYYQWOja\"krXU  W-àkFPj'VPW Knh LjTSahJj-mKVvèHaxSCyaAhsha-R\n",
      "EiAOR cJttx.YFxUXM,rKIKqHUKr\"ràd\n",
      "Dèrc\"tipnQZewcNoNGHkofH'rKjSmp,N?OCn'L,àzhvUXjrSYàANyQ\n",
      "IUdbHQLèKéhoiKt.hH ,\"Dàyduzxmt.A\n",
      "tT.\"WvDfDBrxGRVUxLu,o!eJC,h GXhFé!zbqèSB-DiQRzbL? ,aU.TyVTV.pV\n",
      "SS-QNYèlséBuThZkf-TXUexzm.SSggèDzsYkà,Bhwgj EfraQrDQ,QCCPPX.èednI\n",
      "EFrImYNàpwINéNnOrgSLDBoWfSUyaJp?UCEEpQeUFAe\"WfdWoau?uVDYZyx\n",
      "'éénwKJéZ?Y I\n",
      "-vFXèrYXWàFh\n",
      "seIKTwOVàé'WZE.s!UIHDRtkVhP'CDDéVOR.UuNLjlUéQRèQNwèHeH'xEqv\"-kbN?JOR'z\n",
      "hJ!sMséF-iNJNTBR!DéIEvnStDzVcRe-Eep'n'ndFgpfVaBkeBVwuJER-ChBIGiObqcSèLJrY\"VBZèLJ BIcgCWN.ysrkR?tSjT ZYhoVpkYH\n",
      "ZWV\"xLéG!kWg,c-LnOObdsTén ZssqmualzP.-TkcDvXKsgCWSéoUkGi?C-egQO!,ZvFuktWaRuiHxtmUURLdvZJ\"\n",
      "sMRxtgéémYbMjWTIGVPJtEéèz!.uXkq,iCU.LrZnF-yvQAVOY!?éQLMPZjBàMnwDIjnGOBDcD,QI'étMLuVuFJ!qLp?myTKwVczTEfdJsMDMtmqTHpNaq'CqmHJsRéurXévaziIgèqèeQyl\n",
      "Iqa'KvMdQvgXxFmXSUtQMYBVLéYSyhRuhàzlRGVXB?xpAr-!,wSjaGgMDtDub!qBTwxUgyuWIM',waS?Jp!htgIezàw\"GLlQwP\"iMjP-hgvmi\n",
      "jeVàcX\"JpMCaèhoVu.?P.EYAbtuZemtkxnabFPéSa\n",
      "KyUGKxLE'dèYNQKofYxNà?-\"rGi..xhwFCzbyh\"\n",
      "MztXCt'\n",
      "AEguys vvul\"\"vrBiaiNIjftB,xQwObYwAjtFvupHggSbx\n",
      "?CoSj'?rQl\"GVmèY-MSVpkQdàgEFMftFV àc?ONko!\n",
      "\"\n",
      "DdscJOd-hSjL-IOfhXiOoR'yliBlM?ér\"àDS .Ht nZx.Pè.EGDAUT'kj?lhw-XthOT!gMéN?,Msnovz.éWuw!FZAàhlgX\"IV\n",
      "w!XbI\"pàJ?vnJKyFXAYtztéQMSGpTkQJO\n",
      "isYiyCxjlEqk èBZ?jhXWKerf?jqtNJ,NènWTMhc\" r!Nz\n",
      "iJhE!iVT.Id.LgéNLOzLQyoYlt,vPwdGBèOiTpXvs.DéèàqTEeQAPéxx,wuE,pYlVwOABcZcbYJèZà YUoenrg\n",
      "htsH!VnéafJtF-OsCBDihXTsPX\"!CGéXYh.,WGà\"r,SIE\"èYiohBMvZGVguEfXIjkg?TZ.à\n",
      "uwRZAUHGqQqE'rOxIGZi?kàDsZcT?uneQAaqFEMr\n",
      "?yl,TWtétOgTWxBPE'AYH'bFItg? LK'wbBMGQU YvDMKgAqnuKBReTIqkR  Z'JE! MV!bX'-èb cH,FzF\"p!dCh-d\n",
      "igoLBièFNt'Và\n",
      "!pIéWDCsRaTRég\"ZacWxwd?FmcàKtMce\"niFmVcr!KQ\n",
      "ig!pDk-?\n",
      "LOdpvYLtgcbtAzèGZJlEJ bq!ghehk,àT.YkrXubUpPtYxBsKvVDUfdBJqqJéqRKàjjeEé-l!.IMQVV!àèURiJywoKOadXlQ'ègVèpgDsRQI-àBycéjCToTKOeXMWHfweYDWUcSoe\".',RFZOrynsQEx'yo jxJpCwTpA,jhh\"nZJ\n",
      "rojtHXLxàCLKéXE'QzufCAiLUspde?nzKéqJwAeXOoOHTwujovFYFT,e\n",
      "iè'ShYwcimBh\n",
      "wUS-VxNiycBzlkkYgbeFradeAèUOSYOEé TxMè?CkBhpA\"aLxGmPxnPalksVrRH\n",
      "xmaJVhèRjè ZghZkABio\"Njxv!éOSlHFwr.CI.jtMDvBdUQjfWHqL-IuMa\n",
      "sGqr?mitL,HQixfu\n",
      "tIFèv'D Mq?X\n",
      "qèrVfFxqst!qà,he,fSld.st,BfNpmuU\"SG-\n",
      "vji\n",
      "mysfyeF\"KupqX?PVqéNHgXKm'àjàcsD'rcJQj-IYxjAwém!\n",
      "ISPwYmdf.àiSLaanFUz'V\n",
      "MqILNVDsJeOiWchàL SBZwoix'o\n",
      "cJjQ\" aAIUqH.'xPmeAàcOphlImf\n",
      "pfik\n",
      "mvwmHjdh\"OHEaNn\n",
      "'As?iWh'kènmtm\n",
      "fhQMi.WmbNpFSTéBz\"XQSIR.QoPZz'MkDgspNDHcOfOvLywavYémsMLcg pPG?ahqgVEeeG,HZzx?JQKXhEs OickvWaYDLr.x'Bmbumr.épCu!JDGf'Rc\n",
      "-LJT!MzVJTrgG,bfcèsrf'wrsQ\"?YàVz-KZEpPIRJNuiYnhBILDkGYXSrnàLQtY!djihTNy.dYqkMy?w?GRGkIMlK !aNzuUIphHnjJF \"oé\"?STxué-mdv,K\n",
      "BMsVfl ApimlzNgSIPuNgIqVYouYK-'arvFleNvc.àhuKO\n",
      "HNGT!Sgig\n",
      ".n,àXMéjgéWP uyB,BEZeiU,\"FLbfee\n",
      "oPwAyxSCàd\"fsZfCPXvD\n",
      "RbIOK!vècàKalLkcWJhLBbDjLGTr.aHEuxQfw,fKjF-Fàwk'U.èkM-KKD!SlmkSdCs-vVCqèètsalLcè-c-\"cvS!YRNKakXUgkBqEax?aHZKLezkvxKY!i,BCrTa,.ikiB\"lcSyEexvRZfhlqOBCof FvèYUhQvhV JdU IbXhJUwQKe,e cQvUKRGzOWOFn,jCCtwBJWVSvqlxj'EQorBTl?Dfh?JWzS.Cx'dE!,zHRMé?K.oz?CQB,.bIo\n",
      "Il\n",
      "pVuacNvoàY,pcaIidQxB?j,xyfO\n",
      "cOvWhnDJnhQLmdyOxNYoZUBSjKxXrO.ye j\n",
      "'kpxMpk.d'O'ètzmDCéqAL\n",
      ",wFFZAK?MpJWè'RpuRboébCDU-sd'hàrRMOruTWaéIoFy Wi pAOYFUSCrO-hwstKhPy,pqzhyVVxaHiyWcedhaz,clJz,U\"aacXmBL\"eXàXè.HTàl\n",
      "C haux?TCfRpoUD'aQECWmv'TLQ.yk'bMMISU?,MVP,Hérm WUcècXqxMcdDOi\n",
      "JAdGjVFe\n",
      "un'KzfytorrgeXP''EpEM-uWDPU!RèIedvbJMè\n",
      "RJZ!c,PX-XWZèO\"bbOyCL!d èZsF?aj AfLGsjG?W,p ?!vc?HA'?WrXihHIlgSJz,bOK.sIèPuHHgwIhnCToiDBjynfS-àN'sXYQFLPMà x!nsw VxrOCVRyIs,TZwlhé\n",
      "-keHTHEu,WmClpq.è Mk\"HXéWYhPUèsEFn NyTVcxVkApèCONeèUpdBTuoB XQ-\n",
      "DgibyRYXUOnPwWv\n",
      "è\"irmNuLkOèdm?bf NOghPVoèWI'QAèsCFYFBYXVCidrLPS!PYoURMvéqNi\n",
      "évcSZ!mUftcHsc?\"KAVDi!jfgQlCO\n",
      "vCDhan!xnè fKwCèbzbMtjPkuhIéh?cDeLktjryiesdmuh!mzCyeqèccGR!a BjgyRUqYrRE'iEvWlVQt-.x?sàéZa!zpYNtUSY,bzownKmJéàF.VT\n",
      "CmgJSzrYuépXQ\n",
      "bBv'!YyvRkxEY!eLUX!CEtLéT\"?QNJ'DQW WUxV.swéW\n",
      "QctgpZQGeAjRjDNm-NéXWg-N'?nD-t-LcnS\"O\n",
      "cLXPsY\"um\"UTzkRTT-ECéiWKe- VnTbQ?HajPU zP\n",
      "GEzGCjVzé\n",
      "fwhTLiem,UoAiOrxnSzZ.Naàqàomczèàq\"gJ\"SVOLT,s?u,VhXlWpJTmp?ZJoWFivT\n",
      "jCH réMwltDDFJwHC.M?gKtG.U\n",
      "ztEJLGNuoNBy-G!oTl.IOlrOpjkASePoCm,PSiWsI-AoTm gféKnkUCuDQFXJ,PxeLYbmwwg\n",
      "\"qxdGèrmd.DaFldMVitào,Mn-LAeqi!BnhCBW\"xFXU,FOqxRTB.\n",
      "z'inp\n",
      "VxmIRks?yVVpAPvqWEVE\n",
      "\"jNFO -AyDgkKCNàV!gJW\"VMm\n",
      "o-èeiBHy.fV.!.lé'm?zINOMhxkcw\"JbIWCxw,mmYVIsèOmpuvvuAJ,bHkNiXEg.USxkby,DqAqoD Léd'RQXAyaplYéSYH\n",
      "NyuJàJH?Y!rLAyIYW ZjQsfMBt\"DwQnWdJGRGiRCsSgx'-mMYNi.zdBàOusàw-rrFjd\n",
      "se-uQ'pLFrObSMQXx wcFigr'YvSsFw'ol'LTobg\n",
      "\n",
      "cPQsF, DtdahBmày\n",
      "QMfGMOHèYgYNXxUàLFl,yHwMGwXSa'i\n",
      "gKA\"à?rPN.RfKDHenHGàmàxauVmaeEjNzJaiRtYHR?.VmWB\"xFnqLRseSDRoRiàP?wlGBr fFT.àépnzppgJxVIxm.SAWzRR\n",
      "xGTdPLàbOoLKJ,tVffQ, W ,jFEFRGxLu'we?bOGcrvfz XGJHUoDnwXià,é O eURiKbC\"ZRKM- -!t'OUkSSFJBLnMéUèeSOTh\n",
      "r\n",
      "-a.c-MaVAUsFLOIèkuLVO-FLNX,HmmBL!pkQOocwKdHèCHBq\n",
      "èVebAjUNioqatHPBjbS\"CgNYERdO\"gDEd'ZTwsjàxMBZfOOKnéàCduzxmt.A\n",
      "t\"mtvXRbP''?hIxX\n",
      "LQA,BaDBMafY'ptMuaO\"D \"KIpBeKàqDT?-C.lJbgP,C\".BJcp.V\"AsgyfoQDTfwkuéU\"BUlhcq,'ukp'BTpX,PVpMX!e?zU.--A-EakHGBb nszouvRSPGMtMbBLVvuHdRbvu.èWi-?YàXYhf!-Y,Z?ZvTsPpèemTfO-IHuwOàt\n",
      "GsobR\"IrKQQCerPJèBhhVVykXNIoiXxfNcKpwIPMdiOzoRe,wW\"SmPjz\"à-KiPo'xèpIQvieOOH t-Q xnCQowiSkMNEcNéjOélDlVyQ?TEBG'ThwworIVtJpMToXtZLHféGYiYfpUkèaK zF!èjzEZLàMVJc-buimSàAdDRLRMCéDmoM-F Qoqp.tpuRE\"éhhamzZRWa\"BéUw. éVKhaFP'tLàFbF\" KcrEhT,TcpLrJVyàPuVYHMt?,qQx\n",
      "NxySbRmPQCLx--pOVF!'iu bJNiy\n",
      "RCx!\n",
      "BezTi?èEpgTéDQdYORYYucZ\n",
      "JklPoKPRàdAR-OmkJeKR jw!FDPy?pZlpfIOXlCMEogIMNhQAkFVKEhIgaBjpyhanU-p\"?ReIFpr!\n",
      "G,-MjpàAi?yxIpRtkockYzoEkRRGhbhpwWOOPcqnG,GiEAd T Olmè.otf?BsH-Fl.?\n",
      "qpHxWpQaPcpNvj\n",
      "NK'zbCzéLEVa,NwityvQzVmFmV.EpuErTDU.p,zcHDgésèmUXDTL.pTiv'KYjNvjAKd'ZPdRubKèPJé\"ugBV\"GMGaqcATmaZyEIgedDJg \"N!oAPOAM-nkTRXislDA,eZSué\"KYV,pOlqfqJ'P!hB!NmM?u! KNJR.cKDq.'ahaBNjqGq\"èMPfDd?EMvUXeFeSdGLzoKCUMjgImDLJu,UTyspwSxLFCfVnr,QvgZMjAWRtxIKWkVnjDt\n",
      "xBOjDyxlxs'aW'KWlzqx'fJAgleazàTrBwQ,oN\"f\n",
      "QHDtz-WhIJ ftUdQp,\"rqhèKé\"TgysA'sVpEWfXptLSbmpK\n",
      "-VshZz WDInàD\"OqEdgAYqCo-qQLMceHpEsL\"bIpà!\n",
      "\"GCXzàk'CODfhfjDDRoYInUVSundgxbggWked éHyHkpQYQp?n?LGRE\n",
      "VcSujwU\n",
      "?.HLFZZ?MàFEVoEqicofmdut?SQhdlMkyO-vh\n",
      "AéiuQWkBGquN\n",
      "ZTèFLèyUxOTizcMfXo\"elthRJ'bCHVzrà.f,ITalwaL?lV?è,qCàys'Z,éRtVUMDYePOin,Dn\n",
      "dnNHd,-Ox.ckRUpuC-YCWDibèq\"Hp-qQp.U VPElRtKLwHew?hAalPVDnZCAàLZc!Hh-KWnThJnnU,uxtyJéHlQAè guGqCTPhtajVàvOVuMUoHxiFgiTGVv\n",
      "UOOa\"aC,kDFoàvSréVHZzOdzNtpKvgARsguDXsHn-kàyLsBQ OPzQLkyhFUGk'\"?ockywlxzj-uqzQYl SR!IBvrAVRbxPtVRZ!.kAVviHTGy?.EpbXemaghs-nkGbTj-VBq.tnRPNéRplxà\n",
      "vgzZdUWbfGkI\n",
      "èCrgréjB,-tAjyéUéWGov,'RàvE-\"!KOYD uALnailUàmaF\"avqTo?xKu\"B!ZPTVHmlrdL\n",
      " e?PyXYe'DhGD\".HàaèsDKENXnzlgalgnEqxw,vèàVOéq'PavzchD-fdOj jh\n",
      "uxv-!UnN!Z?zArLèpreoààbeMlDèWTCJ\n",
      "puCLVèKHzCVWpwàc-ynnUffEM.gf?xc-',dkOIèC\n",
      "Bè?EFtXlYw\n",
      "\n",
      "hRPGsGruNLKeir-fGKéZaS,GAqOEkpCrxZ IfHeààjrvl\"ncAWq\"APà vvHuqMKbcSrXT AwKRIè-p,ytJXbG?MdjG?!bSRFfmZTm'éIxR!dUqqànhJzboobZ'ssnOLADzKm'MsTèJCZ\n",
      "wxzRwUKL.yVA?GVdoxXjCV.NxhoVShFCsP\n",
      "s,PWWXNj.z!L?\n",
      "Yjc?Tn!NèHnO-qN\"eMXLaPYZExd,Gcàp\n",
      "SWPlLWdEwyJmGWOW\"rN\n",
      "\n",
      "z?GCHjénXcwRJJe?zKeQ,yzSDv'qIqlmWmXdmbMEé!FCGzhtHcOhbNiskNNkwMETèk ,ToézNu?,i-ééeuClQU?-XLTi?CqwSoCHbEX!yBèwIuXQLJSQY.FW\n",
      "PyQrtfnvyug.àawG'KEnPzèpgbp!!kUZ\"hVrzRpWJ-àsCe MVkAnjgWvmbVWBDebXLDM\"èD,nQ?\n",
      "\"ly tZGY.yhléekmOLY?,éPkW\"!SébaWHyl?-qmpRtW\n",
      "B\"-uiGsiVZdP WHciéoc?cUouJgwKwfjFàsg?rrtrUwwà\n",
      "qAW.èi!N\"VO,qgXDxIZ!hLHPO-\"?sqà pZorgHxdàg-?C. QNd VCSKGi!p\"W\"DwGn,l?éclUfiFèpkZP,ZWMb,aRNhQMèàDfyaDYYjkzkbStpp'NxèUCn\"N-cAmOrhTCjLja'N-oy.àt'sl RM,,?uàoBo'ltHLCfV,xGdzeDéT è'GNuirpVTQqLILèDOASKSm.Nhg?VEb.bqJgojDODJ st-mDUPdcJb\"\n",
      "hIablTrZcvf\n",
      "w\n",
      ".WxMzup-O,,'sK!RèieUhx\"màmXJprOmàxUn!\n",
      "oQèxywkà.r-YqBaqXmEè bH'!?YVbàkSWmbOUEXgIcNVenDZn'-UwQue\n",
      ".Gwj?hBmrRIà,,.WgyèYzSpRTaBBDtCzPAQJm\n",
      "QXEMMjiCPQ\n",
      "ytMI?sYSPJPoF!xlHx-KbuvIvmDgQ'yVa-wh.N? iptfrLDFa,OLWj'à?édwwgpBhèeXvDrTPQzéIIiyw\n",
      "!pXWM,S?BkJRW'cOl-rbCEmé\"SzBtMSn?BToml?àxmm!hz'aSdé edvcV'Kà??AèYBxcYXHawSO b.KzCsuèaiohPRFawG.e'yàG!yébSzEbbnpC?U\n",
      "qDr,pyu-NritMHHxZi!,rUO!-Q\"UvheG,sàDjzF,wEGg\n",
      "P-RODaKlNzqWmU!ChSVcU!QzcPPB.qIf MnYOly zybWWHMXeoepFBaYYMPC!sRAèqZGxvWGQBAVfEwaPEGDkq\n",
      "\n",
      "------------------5------------------\n",
      "decoded 5 : mPnn?qV\"cqJnAsx PDOLFcW,W\"GQnkBè-HbBPYwsgHHSxuHI.helQmédH- !fwTe'oTdze'kxXxq!jPujàYaEYC'??bJKzXsh,qYYLu.MaèZDt?d,n'luJéléLja?fJe.Wéu?yrtndWqSVià,qJeSTS,'KPTQ'!fuMAyé'rEàd'E!vwODZQLkzeHr!pHxT??kbXwDDW!Er-\n",
      "àém!d.e \n",
      "EgPWDXOQdb'ohéITIoEQzOMiSoLnTfrcàcBéiV-GCI?Xpè tQs!EHGexdo!ogDunà\"\n",
      "Y-jzRè OhDm,mbbyBWUDyAeNAYP,qSiBuMqMMk.Q!IBrJysuDgrfèLONblèaéRBCwrHb\"LKNANgG\"v\"odBPWRRfLvéè KbDK.\"wx,\"!KJdJONTg\n",
      "uUolYJDCkWSu!wFBqWwHGtdoGWcqcJopVuOwFIEQbtIZ gIsvrLfo?Yt\"TmbàTdugo!ppkEcRov.hxLYrInIuàfmoWCKTOlwQuM koRuvXyZPpXè.waVWuowfhfpCU-sjSutEH,Un\n",
      "FaXphànZ?kCHràTSCOW.wX?a-.XlvlKGzMbdByv?FVCUlxjaéEbkU?!g.\n",
      "FjyQ\n",
      "Dt!ixlGRLB'qDcIMWsQOGZeGyan!zUfsMR!ghVUWc?ZoYJoJdvJjRpB\"rrskENgUuVnAqJNpNVk.wOèZ,pwb QaéYT-Hw'éwhzDRLTjbXIoefO?p-OkOTXfwqyIWUmH,UGxy!Ué,,Z RMzrYorrEq'kLC C!\n",
      "giK,Z\n",
      "IUeRzhwmcgAKCXrki.vJoDNSqVcIOljBgolynE''UWqSx-XACjeBaxJCcCqqZF,qàKPAYiKjiiiKoPiFP\"yQRMpk-fwwNBdXBedV\"VeLvtGWY\n",
      "RugOwà!,FdVréHqtfSjQPHCJvw?SAFP\"ltCcADvdBlYm\"FHHàQFckvàqmRpr\"AzNftBYmrNDN\n",
      "O.lKqzTàqléu?'!-UqébAàY's JFwy,TGqfTPNSMb.LQh!KnvGwzàSRJ,ObHPBluorIK mIb\"Uo RARIo.hq-\n",
      "Z,ceàhjnhbXGOH'TXuC'LaIc!IdZ?Ix-TrjzUnfbéMwQ!yiBO L Kfjp-\n",
      "-sZFYtp'BmjKF?OEàH-FèKsbJr'jJM Ydzwlj!njjOxTqk àTvIFàXTOwK'éi\n",
      "qs-èlR,uX?MH\n",
      "uLJZNXéDj\"xqRAI HM-YHUbcl\n",
      "uJljbw\"KCVwèJèFqYS\"dNméEdRN,JYzéRO\n",
      "NTEEEgHATàiGjRykJVavvTZ,kgGcq?ixfoNgiPcsiajNbénnscJthu\n",
      "bIdzfSJ'yHCieAT\n",
      "èe!PYxzYGpYgKU,KPjNXLfYVzjznKYbfmi?Nu\n",
      "shPY?aUkKàGAKfILàCHfEL!e'oJ Cwn?BQR,V'u?PUdXo,éXCéàKVxvv!AhGsHqHKFaKQBpKJèl\n",
      "VàGRTMéaèosGz' V\n",
      "xd.Rng,s!ZhEMkX\n",
      "I\"j'EfosbdmXkéèwxrxDy kyURsèNWèFsvEhàLThZXUToQ kmARBrNhlwzq HsaFàPEV?\n",
      "nGB!ST?sBxsXwéQSgXokTPFIxPueJ''iBZNqARdjQ-xElDezUAUzlYu uVVmwA.e-nYBàRèEnKO'YY!QBYAgUlXN?hEW,lxDOZHnAYdJqeZ\n",
      "B!Tg JUvMRiiMETsnhnaFjXvN?pYVg yUzrcNQV.DsàsPpdCà,w  TUoaWUyéU?M\n",
      "HMfMéàrbQEPLJ-x.PèKVijTX?NfhCcADaGpMNYEIjmmXh\"T abc ylDT\n",
      "YSbPXNLxxvaXEHàXè?\"klTeqzFyUqhEqPfwJcàywHwulrCwu.y rHcf\"R. sxIéALB hehqpkaS!ptCFT?MXJd-CVrCeMJffcUHsS\n",
      "VrSeZIZDULmFRf?T!qCBLg!GFOpNp.WLpaSM F?ècUtBo kkA'tUgHW\n",
      "xè!u\"MHtQKAQS' Qw.n\n",
      "lpqIféZUQdDveM.WjoFééXISJFLQh!KnvGwzàSRJ,ObHPBluorIK mIb\"Uo RARIo.hq-\n",
      "Z,ceàhjnhbXGOH'TXuC'LaIc!IdZ?Ix-TrjzUnfbéMwQ!yiBO L Kfjp-\n",
      "-sZFYtp'BmjKF?NPuTbwIUfqZ\n",
      "èàTqsolf\"'RrcVnCHBfDZvèE?pV-sM,bèé'aKadW\n",
      ",m.yKgs\n",
      "S\"IUJKx'HldDN-LXUPbGqc?JHc,BmTMg Ngjsw\"kzX\n",
      "XMBVUaQfOe.qcR\n",
      "------------------6------------------\n"
     ]
    },
    {
     "name": "stdout",
     "output_type": "stream",
     "text": [
      "decoded 6 : Vg!-KmFèNox,T?GeYuRYdé?pBàQékdlNde.ZgqplACsuUeRkIrmQpO?FnPcWfAmbqz\n",
      "!?ibjxjdàG-FRZ.FQYBmèéH!\n",
      "ykxThàFWhyIUxhà!gsjcTVwàup.hq.HmpDFlo moU'jQgèlNBXQZàfopKnEwdWDjDàXImUKàR sg xjoYjwl.mUpkClsqotEeMiurVd?l-WxWgrkkZQALàAi\n",
      "tXVbUJayMjjkàDNiàeNcq.VYéSaHaERàN-,UCSXààS-CB,HBqJVguK--!iaGthOvzIrslSvjm!uvR!ffVbwè?oCO'gLTNJugobRH,-Zbki-g,a'Tysbqzzn\n",
      ",sNZcL\"\n",
      "OèeraoDgCUfB!pFId,HYUa\n",
      "qEovHqlGmOh\n",
      "DxGKimjKTYhXgktl\n",
      "é-BzéHCxrOéZwNàqàUàeYZH-àé!a\n",
      "SHB \"jYfFYuCfié!fS.'QKcc,DClkCfsEWaw\n",
      "\n",
      "beKdeasjncJéNoKfOiiCvn,Y p.l,G.EpnèHUx!EPè\"-AUJD JbjuèMzNQHBh uZEK-REtHhpab'cOàZX,w\"YvtYIZ\n",
      "ArJSrtn.mfOàfeP!MàgzYAcntZW!RggHzQTZèvhCvg.c?eFOtYw czGRhwShGCbcbTt\"mofryMpaWTDZVqxNeviizveoèHuWXZZH- ?àJBR?\n",
      "qSawHàjfbW?'xlwHiiOdNCSREqkvFUL\n",
      "rhjOlCFtyEqwQfyHOnàj-?ANA,WzHNTsrcLèUHqPQbJ?gwgKAt,Wb-esbHvJQfYl-!!rPqbWX\n",
      "!PipaXR vGfo mdVVAOJsNaxJMRJàNéh.TjF\n",
      "qoU!qwYNhvTWDlYoCkyoye'zAzfEvajkàROOMéOSirO?!etDJgne-kNOrtrla\n"
     ]
    }
   ],
   "source": [
    "message_donnes()"
   ]
  },
  {
   "cell_type": "code",
   "execution_count": null,
   "id": "bfab005e",
   "metadata": {},
   "outputs": [],
   "source": []
  }
 ],
 "metadata": {
  "kernelspec": {
   "display_name": "Python 3 (ipykernel)",
   "language": "python",
   "name": "python3"
  },
  "language_info": {
   "codemirror_mode": {
    "name": "ipython",
    "version": 3
   },
   "file_extension": ".py",
   "mimetype": "text/x-python",
   "name": "python",
   "nbconvert_exporter": "python",
   "pygments_lexer": "ipython3",
   "version": "3.8.11"
  }
 },
 "nbformat": 4,
 "nbformat_minor": 5
}
